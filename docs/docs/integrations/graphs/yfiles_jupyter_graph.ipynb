{
 "cells": [
  {
   "cell_type": "markdown",
   "id": "d8d72b38-5454-41dd-b96c-8a3e03004c58",
   "metadata": {},
   "source": [
    "# Graph Visualization using yfiles for Jupyter Graphs\n",
    "\n",
    ">[yfiles_jupyter_graphs](https://github.com/yWorks/yfiles-jupyter-graphs) is a Python package for the creation, customisation, and specifically visualization of various graphs in jupyter environments.\n",
    "\n",
    "This notebook demonstrates how to visualize your langchain graph using yfiles_jupyter_graphs \n",
    "\n",
    "This is not a tutorial about building a graph or chatbot."
   ]
  },
  {
   "cell_type": "code",
   "execution_count": 1,
   "id": "e0e12559-3303-44cb-8455-3636a4fa9910",
   "metadata": {},
   "outputs": [],
   "source": [
    "%%capture --no-stderr\n",
    "%pip install -U langgraph langsmith"
   ]
  },
  {
   "cell_type": "markdown",
   "id": "7becc9a3-6cbc-4f38-a849-d534b33f29b6",
   "metadata": {},
   "source": [
    "Let's create a simple graph:"
   ]
  },
  {
   "cell_type": "code",
   "execution_count": 2,
   "id": "e01d1793-2cc9-453b-aac5-7d73abba51e4",
   "metadata": {},
   "outputs": [],
   "source": [
    "from typing import Annotated, Dict\n",
    "\n",
    "from langchain_anthropic import ChatAnthropic\n",
    "from typing_extensions import TypedDict\n",
    "\n",
    "from langgraph.graph import StateGraph\n",
    "from langgraph.graph.message import add_messages\n",
    "\n",
    "\n",
    "import operator\n",
    "\n",
    "\n",
    "class State(TypedDict):\n",
    "    # The operator.add reducer fn makes this append-only\n",
    "    aggregate: Annotated[list, operator.add]\n",
    "\n",
    "\n",
    "from typing import Any\n",
    "class ReturnNodeValue:\n",
    "    def __init__(self, node_secret: str):\n",
    "        self._value = node_secret\n",
    "\n",
    "    def __call__(self, state: State) -> Any:\n",
    "        print(f\"Adding {self._value} to {state['aggregate']}\")\n",
    "        return {\"aggregate\": [self._value]}\n",
    "builder = StateGraph(State)\n",
    "builder.add_node(\"a\", ReturnNodeValue(\"I'm A\"))\n",
    "builder.set_entry_point(\"a\")\n",
    "builder.add_node(\"b\", ReturnNodeValue(\"I'm B\"))\n",
    "builder.add_node(\"c\", ReturnNodeValue(\"I'm C\"))\n",
    "builder.add_node(\"d\", ReturnNodeValue(\"I'm D\"))\n",
    "builder.add_edge(\"a\", \"b\")\n",
    "builder.add_edge(\"a\", \"c\")\n",
    "builder.add_edge(\"b\", \"d\")\n",
    "builder.add_edge(\"c\", \"d\")\n",
    "builder.set_finish_point(\"d\")\n",
    "graph = builder.compile()"
   ]
  },
  {
   "cell_type": "markdown",
   "id": "d8779eed-6e34-42d2-9802-3c71eb3da157",
   "metadata": {},
   "source": [
    "Uncomment the following cell if you don't have yfiles_jupyter_graphs installed:"
   ]
  },
  {
   "cell_type": "code",
   "execution_count": 3,
   "id": "fd8a8c23-fab4-40e2-8185-19cbe590acd2",
   "metadata": {},
   "outputs": [],
   "source": [
    "#pip install yfiles_jupyter_graphs"
   ]
  },
  {
   "cell_type": "markdown",
   "id": "16a7c19f-0260-4384-963b-72887c66128c",
   "metadata": {},
   "source": [
    "The method ```show_jupyter_widget``` in the ```Graph``` class visualizes the current nodes and edges. "
   ]
  },
  {
   "cell_type": "code",
   "execution_count": 4,
   "id": "b37d3e7c-3883-4f7d-b67d-c5cbc2b6332d",
   "metadata": {},
   "outputs": [
    {
     "data": {
      "application/vnd.jupyter.widget-view+json": {
       "model_id": "777a3f5acad646ef8d14a9bbf855d9f7",
       "version_major": 2,
       "version_minor": 0
      },
      "text/plain": [
       "GraphWidget(layout=Layout(height='500px', width='100%'))"
      ]
     },
     "metadata": {},
     "output_type": "display_data"
    }
   ],
   "source": [
    "graph.get_graph().show_jupyter_widget()"
   ]
  }
 ],
 "metadata": {
  "kernelspec": {
   "display_name": "Python 3 (ipykernel)",
   "language": "python",
   "name": "python3"
  },
  "language_info": {
   "codemirror_mode": {
    "name": "ipython",
    "version": 3
   },
   "file_extension": ".py",
   "mimetype": "text/x-python",
   "name": "python",
   "nbconvert_exporter": "python",
   "pygments_lexer": "ipython3",
   "version": "3.12.3"
  }
 },
 "nbformat": 4,
 "nbformat_minor": 5
}
